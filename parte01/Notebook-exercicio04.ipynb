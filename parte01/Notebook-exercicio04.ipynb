{
    "metadata": {
        "kernelspec": {
            "name": "SQL",
            "display_name": "SQL",
            "language": "sql"
        },
        "language_info": {
            "name": "sql",
            "version": ""
        }
    },
    "nbformat_minor": 2,
    "nbformat": 4,
    "cells": [
        {
            "cell_type": "markdown",
            "source": [
                "EXERCÍCIO 4\n",
                "\n",
                "Liste o código do produto, descrição do produto e a descrição das categorias dos produtos que tenham o valor unitário na faixa de R$ 10,00 a R$ 1500"
            ],
            "metadata": {
                "azdata_cell_guid": "ff9c529b-d7fc-403a-a179-479db77505bf"
            },
            "attachments": {}
        },
        {
            "cell_type": "code",
            "source": [
                "USE TREINO;\r\n",
                "\r\n",
                "SELECT c.ID_PROD, c.NOME_PRODUTO, d.NOME_CATEGORIA\r\n",
                "FROM dbo.PRODUTOS AS c\r\n",
                "INNER JOIN dbo.CATEGORIA AS d\r\n",
                "ON c.ID_CATEGORIA = d.ID_CATEGORIA\r\n",
                "WHERE c.PRECO >= 10 AND c.PRECO <= 1500;"
            ],
            "metadata": {
                "azdata_cell_guid": "27eb7bd0-d16d-4fdf-88d3-d5f98f049e01"
            },
            "outputs": [
                {
                    "output_type": "display_data",
                    "data": {
                        "text/html": "(12 rows affected)"
                    },
                    "metadata": {}
                },
                {
                    "output_type": "display_data",
                    "data": {
                        "text/html": "Total execution time: 00:00:00.114"
                    },
                    "metadata": {}
                },
                {
                    "output_type": "execute_result",
                    "metadata": {},
                    "execution_count": 1,
                    "data": {
                        "application/vnd.dataresource+json": {
                            "schema": {
                                "fields": [
                                    {
                                        "name": "ID_PROD"
                                    },
                                    {
                                        "name": "NOME_PRODUTO"
                                    },
                                    {
                                        "name": "NOME_CATEGORIA"
                                    }
                                ]
                            },
                            "data": [
                                {
                                    "0": "1",
                                    "1": "HD 500 1 TB",
                                    "2": "Informática"
                                },
                                {
                                    "0": "2",
                                    "1": "Monitor 17",
                                    "2": "Informática"
                                },
                                {
                                    "0": "3",
                                    "1": "Monitor 15",
                                    "2": "Informática"
                                },
                                {
                                    "0": "4",
                                    "1": "HD SSD 250 GB",
                                    "2": "Informática"
                                },
                                {
                                    "0": "5",
                                    "1": "Teclado",
                                    "2": "Informática"
                                },
                                {
                                    "0": "9",
                                    "1": "TV Plasma 32",
                                    "2": "TV´s"
                                },
                                {
                                    "0": "10",
                                    "1": "Fogao",
                                    "2": "Utilidades do Lar"
                                },
                                {
                                    "0": "11",
                                    "1": "Mixer",
                                    "2": "Eletrodomesticos"
                                },
                                {
                                    "0": "12",
                                    "1": "Batedeira",
                                    "2": "Eletrodomesticos"
                                },
                                {
                                    "0": "13",
                                    "1": "Liquidificador",
                                    "2": "Eletrodomesticos"
                                },
                                {
                                    "0": "14",
                                    "1": "Geladeira",
                                    "2": "Eletrodomesticos"
                                },
                                {
                                    "0": "15",
                                    "1": "Aspirador de pó",
                                    "2": "Utilidades do Lar"
                                }
                            ]
                        },
                        "text/html": [
                            "<table>",
                            "<tr><th>ID_PROD</th><th>NOME_PRODUTO</th><th>NOME_CATEGORIA</th></tr>",
                            "<tr><td>1</td><td>HD 500 1 TB</td><td>Informática</td></tr>",
                            "<tr><td>2</td><td>Monitor 17</td><td>Informática</td></tr>",
                            "<tr><td>3</td><td>Monitor 15</td><td>Informática</td></tr>",
                            "<tr><td>4</td><td>HD SSD 250 GB</td><td>Informática</td></tr>",
                            "<tr><td>5</td><td>Teclado</td><td>Informática</td></tr>",
                            "<tr><td>9</td><td>TV Plasma 32</td><td>TV´s</td></tr>",
                            "<tr><td>10</td><td>Fogao</td><td>Utilidades do Lar</td></tr>",
                            "<tr><td>11</td><td>Mixer</td><td>Eletrodomesticos</td></tr>",
                            "<tr><td>12</td><td>Batedeira</td><td>Eletrodomesticos</td></tr>",
                            "<tr><td>13</td><td>Liquidificador</td><td>Eletrodomesticos</td></tr>",
                            "<tr><td>14</td><td>Geladeira</td><td>Eletrodomesticos</td></tr>",
                            "<tr><td>15</td><td>Aspirador de pó</td><td>Utilidades do Lar</td></tr>",
                            "</table>"
                        ]
                    }
                }
            ],
            "execution_count": 1
        }
    ]
}