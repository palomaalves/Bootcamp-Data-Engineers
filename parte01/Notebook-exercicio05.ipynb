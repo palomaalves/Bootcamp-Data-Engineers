{
    "metadata": {
        "kernelspec": {
            "name": "SQL",
            "display_name": "SQL",
            "language": "sql"
        },
        "language_info": {
            "name": "sql",
            "version": ""
        }
    },
    "nbformat_minor": 2,
    "nbformat": 4,
    "cells": [
        {
            "cell_type": "markdown",
            "source": [
                "EXERCÍCIO 5\n",
                "\n",
                "  \n",
                "\n",
                "Liste o código do produto, descrição do produto e descrição da categoria dos produtos, e também apresente uma coluna condicional com o nome de \"faixa de preço\""
            ],
            "metadata": {
                "azdata_cell_guid": "3c7bd311-82b9-4ceb-b58e-8f6099f07ca2"
            },
            "attachments": {}
        },
        {
            "cell_type": "code",
            "source": [
                "use TREINO;\r\n",
                "\r\n",
                "SELECT c.ID_PROD, c.NOME_PRODUTO, d.NOME_CATEGORIA, c.PRECO, \"FAIXA_PRECO\" = \r\n",
                "\tCASE\r\n",
                "\t\tWHEN c.PRECO < 500 THEN 'preço abaixo de 500'\r\n",
                "\t\tWHEN c.PRECO >= 500 AND c.PRECO <= 1000 THEN 'preço entre 500 e 1000'\r\n",
                "\t\tELSE 'preço acima de 1000' \r\n",
                "\tEND\r\n",
                "FROM dbo.PRODUTOS AS c\r\n",
                "INNER JOIN dbo.CATEGORIA AS d\r\n",
                "ON c.ID_CATEGORIA = d.ID_CATEGORIA"
            ],
            "metadata": {
                "azdata_cell_guid": "19d3a030-6d4b-4889-b0b8-845fb1f101c4"
            },
            "outputs": [
                {
                    "output_type": "display_data",
                    "data": {
                        "text/html": "(15 rows affected)"
                    },
                    "metadata": {}
                },
                {
                    "output_type": "display_data",
                    "data": {
                        "text/html": "Total execution time: 00:00:00.023"
                    },
                    "metadata": {}
                },
                {
                    "output_type": "execute_result",
                    "metadata": {},
                    "execution_count": 1,
                    "data": {
                        "application/vnd.dataresource+json": {
                            "schema": {
                                "fields": [
                                    {
                                        "name": "ID_PROD"
                                    },
                                    {
                                        "name": "NOME_PRODUTO"
                                    },
                                    {
                                        "name": "NOME_CATEGORIA"
                                    },
                                    {
                                        "name": "PRECO"
                                    },
                                    {
                                        "name": "FAIXA_PRECO"
                                    }
                                ]
                            },
                            "data": [
                                {
                                    "0": "1",
                                    "1": "HD 500 1 TB",
                                    "2": "Informática",
                                    "3": "350,00",
                                    "4": "preço abaixo de 500"
                                },
                                {
                                    "0": "2",
                                    "1": "Monitor 17",
                                    "2": "Informática",
                                    "3": "900,00",
                                    "4": "preço entre 500 e 1000"
                                },
                                {
                                    "0": "3",
                                    "1": "Monitor 15",
                                    "2": "Informática",
                                    "3": "700,00",
                                    "4": "preço entre 500 e 1000"
                                },
                                {
                                    "0": "4",
                                    "1": "HD SSD 250 GB",
                                    "2": "Informática",
                                    "3": "600,00",
                                    "4": "preço entre 500 e 1000"
                                },
                                {
                                    "0": "5",
                                    "1": "Teclado",
                                    "2": "Informática",
                                    "3": "50,00",
                                    "4": "preço abaixo de 500"
                                },
                                {
                                    "0": "6",
                                    "1": "TV LED 40",
                                    "2": "TV´s",
                                    "3": "2300,00",
                                    "4": "preço acima de 1000"
                                },
                                {
                                    "0": "7",
                                    "1": "TV LCD 40",
                                    "2": "TV´s",
                                    "3": "2500,00",
                                    "4": "preço acima de 1000"
                                },
                                {
                                    "0": "8",
                                    "1": "SMART TV 4K 50",
                                    "2": "TV´s",
                                    "3": "3700,00",
                                    "4": "preço acima de 1000"
                                },
                                {
                                    "0": "9",
                                    "1": "TV Plasma 32",
                                    "2": "TV´s",
                                    "3": "1200,00",
                                    "4": "preço acima de 1000"
                                },
                                {
                                    "0": "10",
                                    "1": "Fogao",
                                    "2": "Utilidades do Lar",
                                    "3": "900,00",
                                    "4": "preço entre 500 e 1000"
                                },
                                {
                                    "0": "11",
                                    "1": "Mixer",
                                    "2": "Eletrodomesticos",
                                    "3": "120,00",
                                    "4": "preço abaixo de 500"
                                },
                                {
                                    "0": "12",
                                    "1": "Batedeira",
                                    "2": "Eletrodomesticos",
                                    "3": "140,00",
                                    "4": "preço abaixo de 500"
                                },
                                {
                                    "0": "13",
                                    "1": "Liquidificador",
                                    "2": "Eletrodomesticos",
                                    "3": "90,00",
                                    "4": "preço abaixo de 500"
                                },
                                {
                                    "0": "14",
                                    "1": "Geladeira",
                                    "2": "Eletrodomesticos",
                                    "3": "1500,00",
                                    "4": "preço acima de 1000"
                                },
                                {
                                    "0": "15",
                                    "1": "Aspirador de pó",
                                    "2": "Utilidades do Lar",
                                    "3": "150,00",
                                    "4": "preço abaixo de 500"
                                }
                            ]
                        },
                        "text/html": [
                            "<table>",
                            "<tr><th>ID_PROD</th><th>NOME_PRODUTO</th><th>NOME_CATEGORIA</th><th>PRECO</th><th>FAIXA_PRECO</th></tr>",
                            "<tr><td>1</td><td>HD 500 1 TB</td><td>Informática</td><td>350,00</td><td>preço abaixo de 500</td></tr>",
                            "<tr><td>2</td><td>Monitor 17</td><td>Informática</td><td>900,00</td><td>preço entre 500 e 1000</td></tr>",
                            "<tr><td>3</td><td>Monitor 15</td><td>Informática</td><td>700,00</td><td>preço entre 500 e 1000</td></tr>",
                            "<tr><td>4</td><td>HD SSD 250 GB</td><td>Informática</td><td>600,00</td><td>preço entre 500 e 1000</td></tr>",
                            "<tr><td>5</td><td>Teclado</td><td>Informática</td><td>50,00</td><td>preço abaixo de 500</td></tr>",
                            "<tr><td>6</td><td>TV LED 40</td><td>TV´s</td><td>2300,00</td><td>preço acima de 1000</td></tr>",
                            "<tr><td>7</td><td>TV LCD 40</td><td>TV´s</td><td>2500,00</td><td>preço acima de 1000</td></tr>",
                            "<tr><td>8</td><td>SMART TV 4K 50</td><td>TV´s</td><td>3700,00</td><td>preço acima de 1000</td></tr>",
                            "<tr><td>9</td><td>TV Plasma 32</td><td>TV´s</td><td>1200,00</td><td>preço acima de 1000</td></tr>",
                            "<tr><td>10</td><td>Fogao</td><td>Utilidades do Lar</td><td>900,00</td><td>preço entre 500 e 1000</td></tr>",
                            "<tr><td>11</td><td>Mixer</td><td>Eletrodomesticos</td><td>120,00</td><td>preço abaixo de 500</td></tr>",
                            "<tr><td>12</td><td>Batedeira</td><td>Eletrodomesticos</td><td>140,00</td><td>preço abaixo de 500</td></tr>",
                            "<tr><td>13</td><td>Liquidificador</td><td>Eletrodomesticos</td><td>90,00</td><td>preço abaixo de 500</td></tr>",
                            "<tr><td>14</td><td>Geladeira</td><td>Eletrodomesticos</td><td>1500,00</td><td>preço acima de 1000</td></tr>",
                            "<tr><td>15</td><td>Aspirador de pó</td><td>Utilidades do Lar</td><td>150,00</td><td>preço abaixo de 500</td></tr>",
                            "</table>"
                        ]
                    }
                }
            ],
            "execution_count": 1
        }
    ]
}