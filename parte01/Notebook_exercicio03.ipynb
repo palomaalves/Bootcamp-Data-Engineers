{
    "metadata": {
        "kernelspec": {
            "name": "SQL",
            "display_name": "SQL",
            "language": "sql"
        },
        "language_info": {
            "name": "sql",
            "version": ""
        }
    },
    "nbformat_minor": 2,
    "nbformat": 4,
    "cells": [
        {
            "cell_type": "markdown",
            "source": [
                "EXERCÍCIO <span style=\"color: #b5cea8;\">3</span>\n",
                "\n",
                "Liste todos os clientes com seus nomes e com suas respectivas cidades e estados"
            ],
            "metadata": {
                "azdata_cell_guid": "b22a1105-46eb-4c79-b931-a7ac2402046f"
            },
            "attachments": {}
        },
        {
            "cell_type": "code",
            "source": [
                "USE TREINO;\r\n",
                "\r\n",
                "SELECT a.NOME_CLIENTE, b.NOME_CIDADE, b.UF \r\n",
                "from CLIENTE AS a\r\n",
                "INNER JOIN CIDADE AS b\r\n",
                "on a.ID_CIDADE=b.ID_CIDADE;\r\n",
                ""
            ],
            "metadata": {
                "azdata_cell_guid": "f034b802-02d0-4261-b4c9-b7710a7fca88"
            },
            "outputs": [
                {
                    "output_type": "display_data",
                    "data": {
                        "text/html": "(10 rows affected)"
                    },
                    "metadata": {}
                },
                {
                    "output_type": "display_data",
                    "data": {
                        "text/html": "Total execution time: 00:00:00.009"
                    },
                    "metadata": {}
                },
                {
                    "output_type": "execute_result",
                    "metadata": {},
                    "execution_count": 2,
                    "data": {
                        "application/vnd.dataresource+json": {
                            "schema": {
                                "fields": [
                                    {
                                        "name": "NOME_CLIENTE"
                                    },
                                    {
                                        "name": "NOME_CIDADE"
                                    },
                                    {
                                        "name": "UF"
                                    }
                                ]
                            },
                            "data": [
                                {
                                    "0": "Rede Atacado",
                                    "1": "Rio de Janeiro",
                                    "2": "RJ"
                                },
                                {
                                    "0": "Rede MercoSul",
                                    "1": "Niterói",
                                    "2": "RJ"
                                },
                                {
                                    "0": "Lojas Vitoria",
                                    "1": "Volta Redonda",
                                    "2": "RJ"
                                },
                                {
                                    "0": "Hiper Giga",
                                    "1": "São Paulo",
                                    "2": "SP"
                                },
                                {
                                    "0": "Giga 10",
                                    "1": "Campinas",
                                    "2": "SP"
                                },
                                {
                                    "0": "Lojas Mega",
                                    "1": "Jundiai",
                                    "2": "SP"
                                },
                                {
                                    "0": "Super Tera",
                                    "1": "Rio de Janeiro",
                                    "2": "RJ"
                                },
                                {
                                    "0": "Rede mais",
                                    "1": "Niterói",
                                    "2": "RJ"
                                },
                                {
                                    "0": "Lojas Plus",
                                    "1": "Volta Redonda",
                                    "2": "RJ"
                                },
                                {
                                    "0": "Hiper Sempre",
                                    "1": "São Paulo",
                                    "2": "SP"
                                }
                            ]
                        },
                        "text/html": [
                            "<table>",
                            "<tr><th>NOME_CLIENTE</th><th>NOME_CIDADE</th><th>UF</th></tr>",
                            "<tr><td>Rede Atacado</td><td>Rio de Janeiro</td><td>RJ</td></tr>",
                            "<tr><td>Rede MercoSul</td><td>Niterói</td><td>RJ</td></tr>",
                            "<tr><td>Lojas Vitoria</td><td>Volta Redonda</td><td>RJ</td></tr>",
                            "<tr><td>Hiper Giga</td><td>São Paulo</td><td>SP</td></tr>",
                            "<tr><td>Giga 10</td><td>Campinas</td><td>SP</td></tr>",
                            "<tr><td>Lojas Mega</td><td>Jundiai</td><td>SP</td></tr>",
                            "<tr><td>Super Tera</td><td>Rio de Janeiro</td><td>RJ</td></tr>",
                            "<tr><td>Rede mais</td><td>Niterói</td><td>RJ</td></tr>",
                            "<tr><td>Lojas Plus</td><td>Volta Redonda</td><td>RJ</td></tr>",
                            "<tr><td>Hiper Sempre</td><td>São Paulo</td><td>SP</td></tr>",
                            "</table>"
                        ]
                    }
                }
            ],
            "execution_count": 2
        }
    ]
}