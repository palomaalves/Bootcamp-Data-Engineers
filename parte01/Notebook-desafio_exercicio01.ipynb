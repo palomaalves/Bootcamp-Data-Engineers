{
    "metadata": {
        "kernelspec": {
            "name": "SQL",
            "display_name": "SQL",
            "language": "sql"
        },
        "language_info": {
            "name": "sql",
            "version": ""
        }
    },
    "nbformat_minor": 2,
    "nbformat": 4,
    "cells": [
        {
            "cell_type": "markdown",
            "source": [
                "<u>**_Criando as tabelas_**</u>"
            ],
            "metadata": {
                "azdata_cell_guid": "3d5aafa1-4960-4897-96a8-deeab3237b7c"
            },
            "attachments": {}
        },
        {
            "cell_type": "markdown",
            "source": [
                "\\--DDL  CRIACAO DA TABELA \n",
                "\n",
                "USE DESAFIO;\n",
                "\n",
                "GO\n",
                "\n",
                "  \n",
                "\n",
                "\\--DDL CRIANDO TABELAS COM CHAVE PRIMÁRIA E ESTRANGEIRA\n",
                "\n",
                "  \n",
                "\n",
                "CREATE TABLE CIDADE\n",
                "\n",
                "(\n",
                "\n",
                "  ID\\_CIDADE int identity(1,1) NOT NULL PRIMARY KEY,\n",
                "\n",
                "  NOME\\_CIDADE VARCHAR(60) NOT NULL,\n",
                "\n",
                "  UF VARCHAR(2) NOT NULL\n",
                "\n",
                ");\n",
                "\n",
                "  \n",
                "\n",
                "CREATE TABLE CLIENTE\n",
                "\n",
                "(\n",
                "\n",
                "  ID\\_CLIENTE int identity(1,1) NOT NULL PRIMARY KEY,\n",
                "\n",
                "  NOME\\_CLIENTE VARCHAR(60) NOT NULL,\n",
                "\n",
                "  ENDEREÇO VARCHAR(60) NOT NULL,\n",
                "\n",
                "  NUMERO VARCHAR(10),\n",
                "\n",
                "  CEP VARCHAR(9)NOT NULL,\n",
                "\n",
                "  ID\\_CIDADE int NOT NULL,\n",
                "\n",
                "  FOREIGN KEY(ID\\_CIDADE) REFERENCES CIDADE(ID\\_CIDADE)\n",
                "\n",
                " );\n",
                "\n",
                "  \n",
                "\n",
                "CREATE TABLE VENDEDORES\n",
                "\n",
                "(\n",
                "\n",
                "  ID\\_VENDEDOR int identity(1,1) NOT NULL PRIMARY KEY,\n",
                "\n",
                "  NOME\\_VENDEDORES VARCHAR(60) NOT NULL,\n",
                "\n",
                "  SALARIO DECIMAL(10,2)\n",
                "\n",
                "); \n",
                "\n",
                "  \n",
                "\n",
                "CREATE TABLE VENDAS\n",
                "\n",
                "(\n",
                "\n",
                "  NUM\\_VENDA int identity(1,1) NOT NULL PRIMARY KEY,\n",
                "\n",
                "  DATA\\_VENDA DATETIME NOT NULL,\n",
                "\n",
                "  ID\\_CLIENTE INT NOT NULL,\n",
                "\n",
                "  FOREIGN KEY(ID\\_CLIENTE) REFERENCES CLIENTE(ID\\_CLIENTE),\n",
                "\n",
                "  ID\\_VENDEDOR INT NOT NULL,\n",
                "\n",
                "  FOREIGN KEY(ID\\_VENDEDOR) REFERENCES VENDEDORES(ID\\_VENDEDOR),\n",
                "\n",
                "  STATUS CHAR(1)\n",
                "\n",
                " );\n",
                "\n",
                "  \n",
                "\n",
                " CREATE TABLE CATEGORIA\n",
                "\n",
                "(\n",
                "\n",
                "  ID\\_CATEGORIA int identity(1,1) NOT NULL PRIMARY KEY,\n",
                "\n",
                "  NOME\\_CATEGORIA VARCHAR(20) NOT NULL  \n",
                "\n",
                "); \n",
                "\n",
                "  \n",
                "\n",
                "CREATE TABLE UNIDADE\n",
                "\n",
                "(\n",
                "\n",
                "  ID\\_UNIDADE VARCHAR(3) NOT NULL PRIMARY KEY,\n",
                "\n",
                "  DESC\\_UNIDADE VARCHAR(25) \n",
                "\n",
                "); \n",
                "\n",
                "  \n",
                "\n",
                "CREATE TABLE PRODUTOS\n",
                "\n",
                "(\n",
                "\n",
                "  ID\\_PRODUTO int identity(1,1) NOT NULL PRIMARY KEY,\n",
                "\n",
                "  NOME\\_PRODUTO VARCHAR(50) NOT NULL,\n",
                "\n",
                "  ID\\_CATEGORIA INT NOT NULL,\n",
                "\n",
                "  FOREIGN KEY(ID\\_CATEGORIA) REFERENCES CATEGORIA(ID\\_CATEGORIA),\n",
                "\n",
                "  ID\\_UNIDADE VARCHAR(3) NOT NULL,\n",
                "\n",
                "  FOREIGN KEY(ID\\_UNIDADE) REFERENCES UNIDADE(ID\\_UNIDADE),\n",
                "\n",
                "  PRECO DECIMAL(10,2)\n",
                "\n",
                " );\n",
                "\n",
                "  \n",
                "\n",
                " CREATE TABLE VENDA\\_ITENS\n",
                "\n",
                "(\n",
                "\n",
                "  NUM\\_VENDA int identity(1,1) NOT NULL PRIMARY KEY,\n",
                "\n",
                "  FOREIGN KEY(NUM\\_VENDA) REFERENCES VENDAS(NUM\\_VENDA),\n",
                "\n",
                "  NUM\\_SE int NOT NULL,\n",
                "\n",
                "  ID\\_PRODUTO INT NOT NULL,\n",
                "\n",
                "  FOREIGN KEY(ID\\_PRODUTO) REFERENCES PRODUTOS(ID\\_PRODUTO),\n",
                "\n",
                "  QTDE DECIMAL(10,2),\n",
                "\n",
                "  VAL\\_UNITARIO DECIMAL(10,2),\n",
                "\n",
                "  VAL\\_TOTAL DECIMAL(10,2) NULL\n",
                "\n",
                " );"
            ],
            "metadata": {
                "azdata_cell_guid": "939c8ec2-a28e-43fa-a806-68b3e784152c"
            },
            "attachments": {}
        },
        {
            "cell_type": "markdown",
            "source": [
                "**<u>Pesquisando os objetos criados</u>**"
            ],
            "metadata": {
                "azdata_cell_guid": "8d65ad2d-15cc-442e-969d-318791e79eb7"
            },
            "attachments": {}
        },
        {
            "cell_type": "code",
            "source": [
                "use desafio\r\n",
                "select * from sys.tables"
            ],
            "metadata": {
                "azdata_cell_guid": "bb0144d4-2409-4290-bf03-e4d603442574"
            },
            "outputs": [
                {
                    "output_type": "display_data",
                    "data": {
                        "text/html": "(9 rows affected)"
                    },
                    "metadata": {}
                },
                {
                    "output_type": "display_data",
                    "data": {
                        "text/html": "Total execution time: 00:00:00.134"
                    },
                    "metadata": {}
                },
                {
                    "output_type": "execute_result",
                    "metadata": {},
                    "execution_count": 4,
                    "data": {
                        "application/vnd.dataresource+json": {
                            "schema": {
                                "fields": [
                                    {
                                        "name": "name"
                                    },
                                    {
                                        "name": "object_id"
                                    },
                                    {
                                        "name": "principal_id"
                                    },
                                    {
                                        "name": "schema_id"
                                    },
                                    {
                                        "name": "parent_object_id"
                                    },
                                    {
                                        "name": "type"
                                    },
                                    {
                                        "name": "type_desc"
                                    },
                                    {
                                        "name": "create_date"
                                    },
                                    {
                                        "name": "modify_date"
                                    },
                                    {
                                        "name": "is_ms_shipped"
                                    },
                                    {
                                        "name": "is_published"
                                    },
                                    {
                                        "name": "is_schema_published"
                                    },
                                    {
                                        "name": "lob_data_space_id"
                                    },
                                    {
                                        "name": "filestream_data_space_id"
                                    },
                                    {
                                        "name": "max_column_id_used"
                                    },
                                    {
                                        "name": "lock_on_bulk_load"
                                    },
                                    {
                                        "name": "uses_ansi_nulls"
                                    },
                                    {
                                        "name": "is_replicated"
                                    },
                                    {
                                        "name": "has_replication_filter"
                                    },
                                    {
                                        "name": "is_merge_published"
                                    },
                                    {
                                        "name": "is_sync_tran_subscribed"
                                    },
                                    {
                                        "name": "has_unchecked_assembly_data"
                                    },
                                    {
                                        "name": "text_in_row_limit"
                                    },
                                    {
                                        "name": "large_value_types_out_of_row"
                                    },
                                    {
                                        "name": "is_tracked_by_cdc"
                                    },
                                    {
                                        "name": "lock_escalation"
                                    },
                                    {
                                        "name": "lock_escalation_desc"
                                    },
                                    {
                                        "name": "is_filetable"
                                    },
                                    {
                                        "name": "is_memory_optimized"
                                    },
                                    {
                                        "name": "durability"
                                    },
                                    {
                                        "name": "durability_desc"
                                    },
                                    {
                                        "name": "temporal_type"
                                    },
                                    {
                                        "name": "temporal_type_desc"
                                    },
                                    {
                                        "name": "history_table_id"
                                    },
                                    {
                                        "name": "is_remote_data_archive_enabled"
                                    },
                                    {
                                        "name": "is_external"
                                    },
                                    {
                                        "name": "history_retention_period"
                                    },
                                    {
                                        "name": "history_retention_period_unit"
                                    },
                                    {
                                        "name": "history_retention_period_unit_desc"
                                    },
                                    {
                                        "name": "is_node"
                                    },
                                    {
                                        "name": "is_edge"
                                    }
                                ]
                            },
                            "data": [
                                {
                                    "0": "CIDADE",
                                    "1": "581577110",
                                    "2": "NULL",
                                    "3": "1",
                                    "4": "0",
                                    "5": "U ",
                                    "6": "USER_TABLE",
                                    "7": "2022-02-04 15:59:55.260",
                                    "8": "2022-02-04 16:00:00.997",
                                    "9": "0",
                                    "10": "0",
                                    "11": "0",
                                    "12": "0",
                                    "13": "NULL",
                                    "14": "3",
                                    "15": "0",
                                    "16": "1",
                                    "17": "0",
                                    "18": "0",
                                    "19": "0",
                                    "20": "0",
                                    "21": "0",
                                    "22": "0",
                                    "23": "0",
                                    "24": "0",
                                    "25": "0",
                                    "26": "TABLE",
                                    "27": "0",
                                    "28": "0",
                                    "29": "0",
                                    "30": "SCHEMA_AND_DATA",
                                    "31": "0",
                                    "32": "NON_TEMPORAL_TABLE",
                                    "33": "NULL",
                                    "34": "0",
                                    "35": "0",
                                    "36": "NULL",
                                    "37": "NULL",
                                    "38": "NULL",
                                    "39": "0",
                                    "40": "0"
                                },
                                {
                                    "0": "CLIENTE",
                                    "1": "613577224",
                                    "2": "NULL",
                                    "3": "1",
                                    "4": "0",
                                    "5": "U ",
                                    "6": "USER_TABLE",
                                    "7": "2022-02-04 16:00:00.990",
                                    "8": "2022-02-04 16:00:11.463",
                                    "9": "0",
                                    "10": "0",
                                    "11": "0",
                                    "12": "0",
                                    "13": "NULL",
                                    "14": "6",
                                    "15": "0",
                                    "16": "1",
                                    "17": "0",
                                    "18": "0",
                                    "19": "0",
                                    "20": "0",
                                    "21": "0",
                                    "22": "0",
                                    "23": "0",
                                    "24": "0",
                                    "25": "0",
                                    "26": "TABLE",
                                    "27": "0",
                                    "28": "0",
                                    "29": "0",
                                    "30": "SCHEMA_AND_DATA",
                                    "31": "0",
                                    "32": "NON_TEMPORAL_TABLE",
                                    "33": "NULL",
                                    "34": "0",
                                    "35": "0",
                                    "36": "NULL",
                                    "37": "NULL",
                                    "38": "NULL",
                                    "39": "0",
                                    "40": "0"
                                },
                                {
                                    "0": "VENDEDORES",
                                    "1": "661577395",
                                    "2": "NULL",
                                    "3": "1",
                                    "4": "0",
                                    "5": "U ",
                                    "6": "USER_TABLE",
                                    "7": "2022-02-04 16:00:05.280",
                                    "8": "2022-02-04 16:00:11.463",
                                    "9": "0",
                                    "10": "0",
                                    "11": "0",
                                    "12": "0",
                                    "13": "NULL",
                                    "14": "3",
                                    "15": "0",
                                    "16": "1",
                                    "17": "0",
                                    "18": "0",
                                    "19": "0",
                                    "20": "0",
                                    "21": "0",
                                    "22": "0",
                                    "23": "0",
                                    "24": "0",
                                    "25": "0",
                                    "26": "TABLE",
                                    "27": "0",
                                    "28": "0",
                                    "29": "0",
                                    "30": "SCHEMA_AND_DATA",
                                    "31": "0",
                                    "32": "NON_TEMPORAL_TABLE",
                                    "33": "NULL",
                                    "34": "0",
                                    "35": "0",
                                    "36": "NULL",
                                    "37": "NULL",
                                    "38": "NULL",
                                    "39": "0",
                                    "40": "0"
                                },
                                {
                                    "0": "VENDAS",
                                    "1": "693577509",
                                    "2": "NULL",
                                    "3": "1",
                                    "4": "0",
                                    "5": "U ",
                                    "6": "USER_TABLE",
                                    "7": "2022-02-04 16:00:11.460",
                                    "8": "2022-02-04 16:00:33.477",
                                    "9": "0",
                                    "10": "0",
                                    "11": "0",
                                    "12": "0",
                                    "13": "NULL",
                                    "14": "5",
                                    "15": "0",
                                    "16": "1",
                                    "17": "0",
                                    "18": "0",
                                    "19": "0",
                                    "20": "0",
                                    "21": "0",
                                    "22": "0",
                                    "23": "0",
                                    "24": "0",
                                    "25": "0",
                                    "26": "TABLE",
                                    "27": "0",
                                    "28": "0",
                                    "29": "0",
                                    "30": "SCHEMA_AND_DATA",
                                    "31": "0",
                                    "32": "NON_TEMPORAL_TABLE",
                                    "33": "NULL",
                                    "34": "0",
                                    "35": "0",
                                    "36": "NULL",
                                    "37": "NULL",
                                    "38": "NULL",
                                    "39": "0",
                                    "40": "0"
                                },
                                {
                                    "0": "CATEGORIA",
                                    "1": "757577737",
                                    "2": "NULL",
                                    "3": "1",
                                    "4": "0",
                                    "5": "U ",
                                    "6": "USER_TABLE",
                                    "7": "2022-02-04 16:00:15.700",
                                    "8": "2022-02-04 16:00:28.470",
                                    "9": "0",
                                    "10": "0",
                                    "11": "0",
                                    "12": "0",
                                    "13": "NULL",
                                    "14": "2",
                                    "15": "0",
                                    "16": "1",
                                    "17": "0",
                                    "18": "0",
                                    "19": "0",
                                    "20": "0",
                                    "21": "0",
                                    "22": "0",
                                    "23": "0",
                                    "24": "0",
                                    "25": "0",
                                    "26": "TABLE",
                                    "27": "0",
                                    "28": "0",
                                    "29": "0",
                                    "30": "SCHEMA_AND_DATA",
                                    "31": "0",
                                    "32": "NON_TEMPORAL_TABLE",
                                    "33": "NULL",
                                    "34": "0",
                                    "35": "0",
                                    "36": "NULL",
                                    "37": "NULL",
                                    "38": "NULL",
                                    "39": "0",
                                    "40": "0"
                                },
                                {
                                    "0": "UNIDADE",
                                    "1": "789577851",
                                    "2": "NULL",
                                    "3": "1",
                                    "4": "0",
                                    "5": "U ",
                                    "6": "USER_TABLE",
                                    "7": "2022-02-04 16:00:20.200",
                                    "8": "2022-02-04 16:00:28.470",
                                    "9": "0",
                                    "10": "0",
                                    "11": "0",
                                    "12": "0",
                                    "13": "NULL",
                                    "14": "2",
                                    "15": "0",
                                    "16": "1",
                                    "17": "0",
                                    "18": "0",
                                    "19": "0",
                                    "20": "0",
                                    "21": "0",
                                    "22": "0",
                                    "23": "0",
                                    "24": "0",
                                    "25": "0",
                                    "26": "TABLE",
                                    "27": "0",
                                    "28": "0",
                                    "29": "0",
                                    "30": "SCHEMA_AND_DATA",
                                    "31": "0",
                                    "32": "NON_TEMPORAL_TABLE",
                                    "33": "NULL",
                                    "34": "0",
                                    "35": "0",
                                    "36": "NULL",
                                    "37": "NULL",
                                    "38": "NULL",
                                    "39": "0",
                                    "40": "0"
                                },
                                {
                                    "0": "PRODUTOS",
                                    "1": "821577965",
                                    "2": "NULL",
                                    "3": "1",
                                    "4": "0",
                                    "5": "U ",
                                    "6": "USER_TABLE",
                                    "7": "2022-02-04 16:00:28.470",
                                    "8": "2022-02-04 16:00:33.477",
                                    "9": "0",
                                    "10": "0",
                                    "11": "0",
                                    "12": "0",
                                    "13": "NULL",
                                    "14": "5",
                                    "15": "0",
                                    "16": "1",
                                    "17": "0",
                                    "18": "0",
                                    "19": "0",
                                    "20": "0",
                                    "21": "0",
                                    "22": "0",
                                    "23": "0",
                                    "24": "0",
                                    "25": "0",
                                    "26": "TABLE",
                                    "27": "0",
                                    "28": "0",
                                    "29": "0",
                                    "30": "SCHEMA_AND_DATA",
                                    "31": "0",
                                    "32": "NON_TEMPORAL_TABLE",
                                    "33": "NULL",
                                    "34": "0",
                                    "35": "0",
                                    "36": "NULL",
                                    "37": "NULL",
                                    "38": "NULL",
                                    "39": "0",
                                    "40": "0"
                                },
                                {
                                    "0": "VENDA_ITENS",
                                    "1": "885578193",
                                    "2": "NULL",
                                    "3": "1",
                                    "4": "0",
                                    "5": "U ",
                                    "6": "USER_TABLE",
                                    "7": "2022-02-04 16:00:33.473",
                                    "8": "2022-02-04 16:00:33.473",
                                    "9": "0",
                                    "10": "0",
                                    "11": "0",
                                    "12": "0",
                                    "13": "NULL",
                                    "14": "6",
                                    "15": "0",
                                    "16": "1",
                                    "17": "0",
                                    "18": "0",
                                    "19": "0",
                                    "20": "0",
                                    "21": "0",
                                    "22": "0",
                                    "23": "0",
                                    "24": "0",
                                    "25": "0",
                                    "26": "TABLE",
                                    "27": "0",
                                    "28": "0",
                                    "29": "0",
                                    "30": "SCHEMA_AND_DATA",
                                    "31": "0",
                                    "32": "NON_TEMPORAL_TABLE",
                                    "33": "NULL",
                                    "34": "0",
                                    "35": "0",
                                    "36": "NULL",
                                    "37": "NULL",
                                    "38": "NULL",
                                    "39": "0",
                                    "40": "0"
                                },
                                {
                                    "0": "sysdiagrams",
                                    "1": "965578478",
                                    "2": "NULL",
                                    "3": "1",
                                    "4": "0",
                                    "5": "U ",
                                    "6": "USER_TABLE",
                                    "7": "2022-02-04 16:02:44.790",
                                    "8": "2022-02-04 16:02:44.790",
                                    "9": "0",
                                    "10": "0",
                                    "11": "0",
                                    "12": "1",
                                    "13": "NULL",
                                    "14": "5",
                                    "15": "0",
                                    "16": "1",
                                    "17": "0",
                                    "18": "0",
                                    "19": "0",
                                    "20": "0",
                                    "21": "0",
                                    "22": "0",
                                    "23": "0",
                                    "24": "0",
                                    "25": "0",
                                    "26": "TABLE",
                                    "27": "0",
                                    "28": "0",
                                    "29": "0",
                                    "30": "SCHEMA_AND_DATA",
                                    "31": "0",
                                    "32": "NON_TEMPORAL_TABLE",
                                    "33": "NULL",
                                    "34": "0",
                                    "35": "0",
                                    "36": "NULL",
                                    "37": "NULL",
                                    "38": "NULL",
                                    "39": "0",
                                    "40": "0"
                                }
                            ]
                        },
                        "text/html": [
                            "<table>",
                            "<tr><th>name</th><th>object_id</th><th>principal_id</th><th>schema_id</th><th>parent_object_id</th><th>type</th><th>type_desc</th><th>create_date</th><th>modify_date</th><th>is_ms_shipped</th><th>is_published</th><th>is_schema_published</th><th>lob_data_space_id</th><th>filestream_data_space_id</th><th>max_column_id_used</th><th>lock_on_bulk_load</th><th>uses_ansi_nulls</th><th>is_replicated</th><th>has_replication_filter</th><th>is_merge_published</th><th>is_sync_tran_subscribed</th><th>has_unchecked_assembly_data</th><th>text_in_row_limit</th><th>large_value_types_out_of_row</th><th>is_tracked_by_cdc</th><th>lock_escalation</th><th>lock_escalation_desc</th><th>is_filetable</th><th>is_memory_optimized</th><th>durability</th><th>durability_desc</th><th>temporal_type</th><th>temporal_type_desc</th><th>history_table_id</th><th>is_remote_data_archive_enabled</th><th>is_external</th><th>history_retention_period</th><th>history_retention_period_unit</th><th>history_retention_period_unit_desc</th><th>is_node</th><th>is_edge</th></tr>",
                            "<tr><td>CIDADE</td><td>581577110</td><td>NULL</td><td>1</td><td>0</td><td>U </td><td>USER_TABLE</td><td>2022-02-04 15:59:55.260</td><td>2022-02-04 16:00:00.997</td><td>0</td><td>0</td><td>0</td><td>0</td><td>NULL</td><td>3</td><td>0</td><td>1</td><td>0</td><td>0</td><td>0</td><td>0</td><td>0</td><td>0</td><td>0</td><td>0</td><td>0</td><td>TABLE</td><td>0</td><td>0</td><td>0</td><td>SCHEMA_AND_DATA</td><td>0</td><td>NON_TEMPORAL_TABLE</td><td>NULL</td><td>0</td><td>0</td><td>NULL</td><td>NULL</td><td>NULL</td><td>0</td><td>0</td></tr>",
                            "<tr><td>CLIENTE</td><td>613577224</td><td>NULL</td><td>1</td><td>0</td><td>U </td><td>USER_TABLE</td><td>2022-02-04 16:00:00.990</td><td>2022-02-04 16:00:11.463</td><td>0</td><td>0</td><td>0</td><td>0</td><td>NULL</td><td>6</td><td>0</td><td>1</td><td>0</td><td>0</td><td>0</td><td>0</td><td>0</td><td>0</td><td>0</td><td>0</td><td>0</td><td>TABLE</td><td>0</td><td>0</td><td>0</td><td>SCHEMA_AND_DATA</td><td>0</td><td>NON_TEMPORAL_TABLE</td><td>NULL</td><td>0</td><td>0</td><td>NULL</td><td>NULL</td><td>NULL</td><td>0</td><td>0</td></tr>",
                            "<tr><td>VENDEDORES</td><td>661577395</td><td>NULL</td><td>1</td><td>0</td><td>U </td><td>USER_TABLE</td><td>2022-02-04 16:00:05.280</td><td>2022-02-04 16:00:11.463</td><td>0</td><td>0</td><td>0</td><td>0</td><td>NULL</td><td>3</td><td>0</td><td>1</td><td>0</td><td>0</td><td>0</td><td>0</td><td>0</td><td>0</td><td>0</td><td>0</td><td>0</td><td>TABLE</td><td>0</td><td>0</td><td>0</td><td>SCHEMA_AND_DATA</td><td>0</td><td>NON_TEMPORAL_TABLE</td><td>NULL</td><td>0</td><td>0</td><td>NULL</td><td>NULL</td><td>NULL</td><td>0</td><td>0</td></tr>",
                            "<tr><td>VENDAS</td><td>693577509</td><td>NULL</td><td>1</td><td>0</td><td>U </td><td>USER_TABLE</td><td>2022-02-04 16:00:11.460</td><td>2022-02-04 16:00:33.477</td><td>0</td><td>0</td><td>0</td><td>0</td><td>NULL</td><td>5</td><td>0</td><td>1</td><td>0</td><td>0</td><td>0</td><td>0</td><td>0</td><td>0</td><td>0</td><td>0</td><td>0</td><td>TABLE</td><td>0</td><td>0</td><td>0</td><td>SCHEMA_AND_DATA</td><td>0</td><td>NON_TEMPORAL_TABLE</td><td>NULL</td><td>0</td><td>0</td><td>NULL</td><td>NULL</td><td>NULL</td><td>0</td><td>0</td></tr>",
                            "<tr><td>CATEGORIA</td><td>757577737</td><td>NULL</td><td>1</td><td>0</td><td>U </td><td>USER_TABLE</td><td>2022-02-04 16:00:15.700</td><td>2022-02-04 16:00:28.470</td><td>0</td><td>0</td><td>0</td><td>0</td><td>NULL</td><td>2</td><td>0</td><td>1</td><td>0</td><td>0</td><td>0</td><td>0</td><td>0</td><td>0</td><td>0</td><td>0</td><td>0</td><td>TABLE</td><td>0</td><td>0</td><td>0</td><td>SCHEMA_AND_DATA</td><td>0</td><td>NON_TEMPORAL_TABLE</td><td>NULL</td><td>0</td><td>0</td><td>NULL</td><td>NULL</td><td>NULL</td><td>0</td><td>0</td></tr>",
                            "<tr><td>UNIDADE</td><td>789577851</td><td>NULL</td><td>1</td><td>0</td><td>U </td><td>USER_TABLE</td><td>2022-02-04 16:00:20.200</td><td>2022-02-04 16:00:28.470</td><td>0</td><td>0</td><td>0</td><td>0</td><td>NULL</td><td>2</td><td>0</td><td>1</td><td>0</td><td>0</td><td>0</td><td>0</td><td>0</td><td>0</td><td>0</td><td>0</td><td>0</td><td>TABLE</td><td>0</td><td>0</td><td>0</td><td>SCHEMA_AND_DATA</td><td>0</td><td>NON_TEMPORAL_TABLE</td><td>NULL</td><td>0</td><td>0</td><td>NULL</td><td>NULL</td><td>NULL</td><td>0</td><td>0</td></tr>",
                            "<tr><td>PRODUTOS</td><td>821577965</td><td>NULL</td><td>1</td><td>0</td><td>U </td><td>USER_TABLE</td><td>2022-02-04 16:00:28.470</td><td>2022-02-04 16:00:33.477</td><td>0</td><td>0</td><td>0</td><td>0</td><td>NULL</td><td>5</td><td>0</td><td>1</td><td>0</td><td>0</td><td>0</td><td>0</td><td>0</td><td>0</td><td>0</td><td>0</td><td>0</td><td>TABLE</td><td>0</td><td>0</td><td>0</td><td>SCHEMA_AND_DATA</td><td>0</td><td>NON_TEMPORAL_TABLE</td><td>NULL</td><td>0</td><td>0</td><td>NULL</td><td>NULL</td><td>NULL</td><td>0</td><td>0</td></tr>",
                            "<tr><td>VENDA_ITENS</td><td>885578193</td><td>NULL</td><td>1</td><td>0</td><td>U </td><td>USER_TABLE</td><td>2022-02-04 16:00:33.473</td><td>2022-02-04 16:00:33.473</td><td>0</td><td>0</td><td>0</td><td>0</td><td>NULL</td><td>6</td><td>0</td><td>1</td><td>0</td><td>0</td><td>0</td><td>0</td><td>0</td><td>0</td><td>0</td><td>0</td><td>0</td><td>TABLE</td><td>0</td><td>0</td><td>0</td><td>SCHEMA_AND_DATA</td><td>0</td><td>NON_TEMPORAL_TABLE</td><td>NULL</td><td>0</td><td>0</td><td>NULL</td><td>NULL</td><td>NULL</td><td>0</td><td>0</td></tr>",
                            "<tr><td>sysdiagrams</td><td>965578478</td><td>NULL</td><td>1</td><td>0</td><td>U </td><td>USER_TABLE</td><td>2022-02-04 16:02:44.790</td><td>2022-02-04 16:02:44.790</td><td>0</td><td>0</td><td>0</td><td>1</td><td>NULL</td><td>5</td><td>0</td><td>1</td><td>0</td><td>0</td><td>0</td><td>0</td><td>0</td><td>0</td><td>0</td><td>0</td><td>0</td><td>TABLE</td><td>0</td><td>0</td><td>0</td><td>SCHEMA_AND_DATA</td><td>0</td><td>NON_TEMPORAL_TABLE</td><td>NULL</td><td>0</td><td>0</td><td>NULL</td><td>NULL</td><td>NULL</td><td>0</td><td>0</td></tr>",
                            "</table>"
                        ]
                    }
                }
            ],
            "execution_count": 4
        }
    ]
}